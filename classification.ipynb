{
 "cells": [
  {
   "cell_type": "code",
   "execution_count": 1,
   "id": "9dad5694-c1cd-41b9-9a2e-74a76e247571",
   "metadata": {},
   "outputs": [
    {
     "name": "stdout",
     "output_type": "stream",
     "text": [
      "1/1 [==============================] - 0s 114ms/step\n",
      "Plant Classification: Non-Toxic\n"
     ]
    }
   ],
   "source": [
    "import tensorflow as tf\n",
    "import numpy as np\n",
    "import cv2\n",
    "\n",
    "# Load trained model\n",
    "model = tf.keras.models.load_model('toxic_plant_classifier.h5')\n",
    "\n",
    "# Function to classify a plant image\n",
    "def classify_plant(image_path, model, image_size=(128, 128)):\n",
    "    img = cv2.imread(image_path)\n",
    "    img = cv2.resize(img, image_size)\n",
    "    img = np.expand_dims(img / 255.0, axis=0)  # Preprocessing\n",
    "    prediction = model.predict(img)[0][0]\n",
    "    return 'Toxic' if prediction > 0.5 else 'Non-Toxic'\n",
    "\n",
    "# Test the classification on a sample image\n",
    "plant_image_path = 'tpc-imgs/nontoxic_images/000/002.jpg'\n",
    "classification = classify_plant(plant_image_path, model)\n",
    "print(f\"Plant Classification: {classification}\")\n"
   ]
  },
  {
   "cell_type": "code",
   "execution_count": null,
   "id": "dcd0f6ba-3385-4fec-b33f-d9939333726a",
   "metadata": {},
   "outputs": [],
   "source": []
  }
 ],
 "metadata": {
  "kernelspec": {
   "display_name": "Python 3 (ipykernel)",
   "language": "python",
   "name": "python3"
  },
  "language_info": {
   "codemirror_mode": {
    "name": "ipython",
    "version": 3
   },
   "file_extension": ".py",
   "mimetype": "text/x-python",
   "name": "python",
   "nbconvert_exporter": "python",
   "pygments_lexer": "ipython3",
   "version": "3.10.12"
  }
 },
 "nbformat": 4,
 "nbformat_minor": 5
}
