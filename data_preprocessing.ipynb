{
 "cells": [
  {
   "cell_type": "code",
   "execution_count": 1,
   "id": "b8eddf73-e6da-4146-b12e-d56fac1262e6",
   "metadata": {},
   "outputs": [
    {
     "name": "stdout",
     "output_type": "stream",
     "text": [
      "Data preprocessing completed: 200 training samples, 50 test samples.\n"
     ]
    }
   ],
   "source": [
    "import pandas as pd\n",
    "import os\n",
    "import cv2\n",
    "import numpy as np\n",
    "from sklearn.model_selection import train_test_split\n",
    "import matplotlib.pyplot as plt\n",
    "\n",
    "# Path to your CSV file and image directory\n",
    "file_path = 'full_metadata.csv'  # Adjust this path as needed\n",
    " # Set this to the folder where the images are located\n",
    "\n",
    "# Load dataset\n",
    "plant_data = pd.read_csv(file_path)\n",
    "plant_data = plant_data.head(250)  # Load only the first 100 samples\n",
    "\n",
    "\n",
    "# Load images and resize them\n",
    "image_size = (128, 128)\n",
    "\n",
    "def load_images(plant_data, image_size):\n",
    "    images = []\n",
    "    labels = []\n",
    "    \n",
    "    for idx, row in plant_data.iterrows():\n",
    "        img_path = os.path.join(row['path'])  # Assuming the CSV has a column 'image_file'\n",
    "        img = cv2.imread(img_path)\n",
    "        \n",
    "        if img is not None:\n",
    "            img = cv2.resize(img, image_size)\n",
    "            images.append(img)\n",
    "            labels.append(row['toxicity'])  # Assuming 'toxicity' column (0: Non-toxic, 1: Toxic)\n",
    "        else:\n",
    "            print(f\"Warning: Could not read image {img_path}\")\n",
    "            \n",
    "    return np.array(images), np.array(labels)\n",
    "\n",
    "# Preprocess images and split dataset\n",
    "X, y = load_images(plant_data, image_size)\n",
    "X = X / 255.0  # Normalize the image data\n",
    "\n",
    "# Split dataset into training and testing sets\n",
    "X_train, X_test, y_train, y_test = train_test_split(X, y, test_size=0.2, random_state=42)\n",
    "\n",
    "# Save preprocessed data for use in model training\n",
    "np.save('X_train.npy', X_train)\n",
    "np.save('X_test.npy', X_test)\n",
    "np.save('y_train.npy', y_train)\n",
    "np.save('y_test.npy', y_test)\n",
    "\n",
    "print(f\"Data preprocessing completed: {X_train.shape[0]} training samples, {X_test.shape[0]} test samples.\")\n"
   ]
  },
  {
   "cell_type": "code",
   "execution_count": null,
   "id": "2cbfeccf-70fd-499e-b009-0e9423df59db",
   "metadata": {},
   "outputs": [],
   "source": []
  },
  {
   "cell_type": "code",
   "execution_count": null,
   "id": "7b034cfb-2a81-4957-83d8-45a69b9eebea",
   "metadata": {},
   "outputs": [],
   "source": []
  },
  {
   "cell_type": "code",
   "execution_count": null,
   "id": "ece0c800-0cf5-4f85-94b0-ac0c51447f82",
   "metadata": {},
   "outputs": [],
   "source": []
  },
  {
   "cell_type": "code",
   "execution_count": null,
   "id": "3914c8f9-b50f-4c6e-b373-974c4f93076e",
   "metadata": {},
   "outputs": [],
   "source": []
  }
 ],
 "metadata": {
  "kernelspec": {
   "display_name": "Python 3 (ipykernel)",
   "language": "python",
   "name": "python3"
  },
  "language_info": {
   "codemirror_mode": {
    "name": "ipython",
    "version": 3
   },
   "file_extension": ".py",
   "mimetype": "text/x-python",
   "name": "python",
   "nbconvert_exporter": "python",
   "pygments_lexer": "ipython3",
   "version": "3.10.12"
  }
 },
 "nbformat": 4,
 "nbformat_minor": 5
}
